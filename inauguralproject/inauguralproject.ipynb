{
 "cells": [
  {
   "cell_type": "markdown",
   "metadata": {},
   "source": [
    "# Inaugural Project"
   ]
  },
  {
   "attachments": {},
   "cell_type": "markdown",
   "metadata": {},
   "source": [
    "> **Note the following:** \n",
    "> 1. This is an example of how to structure your **inaugural project**.\n",
    "> 1. Remember the general advice on structuring and commenting your code\n",
    "> 1. The `inauguralproject.py` file includes a function which can be used multiple times in this notebook."
   ]
  },
  {
   "cell_type": "markdown",
   "metadata": {},
   "source": [
    "Imports and set magics:"
   ]
  },
  {
   "cell_type": "code",
   "execution_count": 2,
   "metadata": {},
   "outputs": [],
   "source": [
    "from types import SimpleNamespace\n",
    "\n",
    "import numpy as np\n",
    "from scipy import optimize\n",
    "\n",
    "import pandas as pd \n",
    "import matplotlib.pyplot as plt\n",
    "\n",
    "# autoreload modules when code is run. Otherwise, python will not see recent changes. \n",
    "%load_ext autoreload\n",
    "%autoreload 2\n",
    "\n",
    "# Import your own code\n",
    "import inauguralproject"
   ]
  },
  {
   "cell_type": "markdown",
   "metadata": {},
   "source": [
    "# Question 1"
   ]
  },
  {
   "cell_type": "markdown",
   "metadata": {},
   "source": [
    "**Explain how you solve the model**"
   ]
  },
  {
   "cell_type": "code",
   "execution_count": 4,
   "metadata": {},
   "outputs": [
    {
     "name": "stderr",
     "output_type": "stream",
     "text": [
      "/Users/bruger/Documents/Documents/Introduction to programming and numerical analysis/projects-2023-mej/inauguralproject/inauguralproject.py:67: RuntimeWarning: divide by zero encountered in reciprocal\n",
      "  H = ((1-par.alpha)*HM**((par.sigma-1)/par.sigma)+par.alpha*HF**((par.sigma-1)/par.sigma))**(par.sigma/(par.sigma-1))\n",
      "/Users/bruger/Documents/Documents/Introduction to programming and numerical analysis/projects-2023-mej/inauguralproject/inauguralproject.py:67: RuntimeWarning: invalid value encountered in reciprocal\n",
      "  H = ((1-par.alpha)*HM**((par.sigma-1)/par.sigma)+par.alpha*HF**((par.sigma-1)/par.sigma))**(par.sigma/(par.sigma-1))\n",
      "/Users/bruger/Documents/Documents/Introduction to programming and numerical analysis/projects-2023-mej/inauguralproject/inauguralproject.py:72: RuntimeWarning: invalid value encountered in reciprocal\n",
      "  utility = np.fmax(Q,1e-8)**(1-par.rho)/(1-par.rho)\n"
     ]
    },
    {
     "name": "stdout",
     "output_type": "stream",
     "text": [
      "alpha = 0.25, sigma = 0.50 -> HF/HM = 3.00/5.50 = 0.55\n",
      "alpha = 0.25, sigma = 1.00 -> HF/HM = 2.00/6.50 = 0.31\n",
      "alpha = 0.25, sigma = 1.50 -> HF/HM = 1.50/7.00 = 0.21\n",
      "alpha = 0.50, sigma = 0.50 -> HF/HM = 4.50/4.50 = 1.00\n",
      "alpha = 0.50, sigma = 1.00 -> HF/HM = 4.50/4.50 = 1.00\n",
      "alpha = 0.50, sigma = 1.50 -> HF/HM = 4.50/4.50 = 1.00\n",
      "alpha = 0.75, sigma = 0.50 -> HF/HM = 5.50/3.00 = 1.83\n",
      "alpha = 0.75, sigma = 1.00 -> HF/HM = 6.50/2.00 = 3.25\n",
      "alpha = 0.75, sigma = 1.50 -> HF/HM = 7.00/1.50 = 4.67\n"
     ]
    }
   ],
   "source": [
    "# Model \n",
    "\n",
    "model = inauguralproject.HouseholdSpecializationModelClass()\n",
    "\n",
    "# First we define a list for alpha and sigma in the range that we want to examine\n",
    "alpha_list = [0.25, 0.50, 0.75]\n",
    "sigma_list = [0.5,1.0,1.5]\n",
    "\n",
    "# Using the list of values we create a loop such that we test for all values of alpha and all values of sigma together \n",
    "for alpha in alpha_list:\n",
    "    for sigma in sigma_list:\n",
    "        # Assigning the values of alpha and sigma to our model\n",
    "        model.par.alpha = alpha\n",
    "        model.par.sigma = sigma\n",
    "\n",
    "# Using our solve model for discrete time\n",
    "        opt = model.solve_discrete()\n",
    "        \n",
    "# Printing the results\n",
    "        print(f'alpha = {alpha:.2f}, sigma = {sigma:.2f} -> HF/HM = {opt.HF:.2f}/{opt.HM:.2f} = {opt.HF/opt.HM:.2f}')"
   ]
  },
  {
   "cell_type": "markdown",
   "metadata": {},
   "source": [
    "# Question 2"
   ]
  },
  {
   "cell_type": "markdown",
   "metadata": {},
   "source": [
    "Explain your code and procedure"
   ]
  },
  {
   "cell_type": "code",
   "execution_count": null,
   "metadata": {},
   "outputs": [],
   "source": [
    "# Model\n",
    "model = inauguralproject.HouseholdSpecializationModelClass()\n",
    "\n",
    "# Define the vector for the wage rates\n",
    "wf = model.par.wF_vec\n",
    "\n",
    "# We then create an empty list to store the results of the optimal labour supply\n",
    "q2_ratio = np.zeros_like(wf)\n",
    "\n",
    "# We create a loop over the wages and find the optimal labour supply for each wage\n",
    "for i, wage in enumerate(wf):\n",
    "    model.par.wF = wage\n",
    "    opt = model.solve_discrete()\n",
    "    ratio = opt.HF/opt.HM\n",
    "    q2_ratio[i] = ratio\n",
    "\n",
    "# Creating a plot of the results\n",
    "plt.plot(np.log(wf), np.log(q2_ratio))\n",
    "plt.xlabel(\"log(wF/wM)\")\n",
    "plt.ylabel(\"log(HF/HM)\")\n",
    "plt.title(\"Varying wages influence on the relative working hours at home\")\n",
    "\n",
    "plt.show()"
   ]
  },
  {
   "cell_type": "markdown",
   "metadata": {},
   "source": [
    "# Question 3"
   ]
  },
  {
   "cell_type": "markdown",
   "metadata": {},
   "source": [
    "Explain your code and procedure"
   ]
  },
  {
   "cell_type": "code",
   "execution_count": null,
   "metadata": {},
   "outputs": [],
   "source": [
    "# code"
   ]
  },
  {
   "attachments": {},
   "cell_type": "markdown",
   "metadata": {},
   "source": [
    "# Question 4"
   ]
  },
  {
   "attachments": {},
   "cell_type": "markdown",
   "metadata": {},
   "source": [
    "Choose α and σ such it minimizes\n",
    " \n",
    "\n",
    "β0 − ˆ β0\n",
    " 2 +\n",
    " \n",
    "β1 − ˆ β1\n",
    "\n",
    "$$\n",
    "(β0-β0)^2 + (β1-β1)^2\n",
    "$$\n",
    "\n",
    " 2. Illustrate how the model\n",
    "fit the data and discuss the economic interpretation of the results."
   ]
  },
  {
   "cell_type": "code",
   "execution_count": 70,
   "metadata": {},
   "outputs": [
    {
     "name": "stderr",
     "output_type": "stream",
     "text": [
      "/Users/bruger/Documents/Documents/Introduction to programming and numerical analysis/projects-2023-mej/inauguralproject/inauguralproject.py:67: RuntimeWarning: overflow encountered in double_scalars\n",
      "  H = ((1-par.alpha)*HM**((par.sigma-1)/par.sigma)+par.alpha*HF**((par.sigma-1)/par.sigma))**(par.sigma/(par.sigma-1))\n",
      "/Users/bruger/Documents/Documents/Introduction to programming and numerical analysis/projects-2023-mej/inauguralproject/inauguralproject.py:67: RuntimeWarning: divide by zero encountered in double_scalars\n",
      "  H = ((1-par.alpha)*HM**((par.sigma-1)/par.sigma)+par.alpha*HF**((par.sigma-1)/par.sigma))**(par.sigma/(par.sigma-1))\n",
      "/Users/bruger/Documents/Documents/Introduction to programming and numerical analysis/projects-2023-mej/inauguralproject/inauguralproject.py:67: RuntimeWarning: invalid value encountered in double_scalars\n",
      "  H = ((1-par.alpha)*HM**((par.sigma-1)/par.sigma)+par.alpha*HF**((par.sigma-1)/par.sigma))**(par.sigma/(par.sigma-1))\n"
     ]
    },
    {
     "name": "stdout",
     "output_type": "stream",
     "text": [
      "alpha = 0.9839273201856493\n",
      "sigma = 0.09830109724352809\n"
     ]
    },
    {
     "data": {
      "image/png": "[encoded data removed]",
      "text/plain": [
       "<Figure size 640x480 with 1 Axes>"
      ]
     },
     "metadata": {},
     "output_type": "display_data"
    }
   ],
   "source": [
    "# Estimate the optimal alpha and sigma \n",
    "model.estimate()\n",
    "\n",
    "# Find the log H ratio \n",
    "logH_ratio = np.log(model.sol.HF_vec/model.sol.HM_vec)\n",
    "\n",
    "# Creating the figure \n",
    "fig = plt.figure()\n",
    "\n",
    "# Creating the plot\n",
    "ax = fig.add_subplot(1,1,1)\n",
    "# Regression from the model \n",
    "ax.plot(np.log(model.par.wF_vec),model.par.beta0_target+model.par.beta1_target*np.log(model.par.wF_vec))\n",
    "# The 'log_H_ratio' and the weights as scatterplot \n",
    "ax.scatter(np.log(model.par.wF_vec),logH_ratio)\n",
    "\n",
    "# Making alterations to the figure\n",
    "ax.grid()\n",
    "ax.set_xlabel('$log(\\omega_F/\\omega_M)$')\n",
    "ax.set_ylabel('$log(H_F/H_M)$')\n",
    "plt.show()"
   ]
  },
  {
   "cell_type": "markdown",
   "metadata": {},
   "source": []
  }
 ],
 "metadata": {
  "kernelspec": {
   "display_name": "base",
   "language": "python",
   "name": "python3"
  },
  "language_info": {
   "codemirror_mode": {
    "name": "ipython",
    "version": 3
   },
   "file_extension": ".py",
   "mimetype": "text/x-python",
   "name": "python",
   "nbconvert_exporter": "python",
   "pygments_lexer": "ipython3",
   "version": "3.9.13"
  },
  "toc-autonumbering": true,
  "vscode": {
   "interpreter": {
    "hash": "47ef90cdf3004d3f859f1fb202523c65c07ba7c22eefd261b181f4744e2d0403"
   }
  }
 },
 "nbformat": 4,
 "nbformat_minor": 4
}
